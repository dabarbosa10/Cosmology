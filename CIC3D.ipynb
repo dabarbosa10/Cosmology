{
 "cells": [
  {
   "cell_type": "code",
   "execution_count": 1,
   "metadata": {},
   "outputs": [],
   "source": [
    "import numpy as np\n",
    "import random\n",
    "import math\n",
    "import matplotlib.pyplot as plt\n",
    "%matplotlib inline"
   ]
  },
  {
   "cell_type": "code",
   "execution_count": 6,
   "metadata": {},
   "outputs": [],
   "source": [
    "xpos=np.random.uniform(-10,10,100)\n",
    "ypos=np.random.uniform(-10,10,100)\n",
    "zpos=np.random.uniform(-10,10,100)"
   ]
  },
  {
   "cell_type": "markdown",
   "metadata": {},
   "source": [
    "Aca definimos los parámetros de la mesh"
   ]
  },
  {
   "cell_type": "markdown",
   "metadata": {},
   "source": [
    "Para este caso, tenemos que las longitudes en las que se encuentran las partículas  son $L_x=20$, $L_y=20$, $L_z=20$ ya que $|-10-10|=20$"
   ]
  },
  {
   "cell_type": "markdown",
   "metadata": {},
   "source": [
    "Vamos a tomar las longitudes de los largos de las celdas como:\n",
    "$\\Delta x= \\frac{L_x}{N_{g_x}}$,\n",
    "$\\Delta y= \\frac{L_y}{N_{g_y}}$,\n",
    "$\\Delta z= \\frac{L_z}{N_{g_z}}$"
   ]
  },
  {
   "cell_type": "code",
   "execution_count": 23,
   "metadata": {},
   "outputs": [],
   "source": [
    "Lx=20.0\n",
    "Ly=20.0\n",
    "Lz=20.0\n",
    "N=20"
   ]
  },
  {
   "cell_type": "code",
   "execution_count": 24,
   "metadata": {},
   "outputs": [],
   "source": [
    "Deltax=(Lx/N)\n",
    "Deltay=(Ly/N)\n",
    "Deltaz=(Lz/N)"
   ]
  },
  {
   "cell_type": "markdown",
   "metadata": {},
   "source": [
    "Para calcular la densidad, primero necesitamos un arreglo de tamaño  $N_{gx}\\times N_{gy}\\times N_{gz}$, para nuestro caso es $N^3$. Definamos esa variable:"
   ]
  },
  {
   "cell_type": "code",
   "execution_count": 27,
   "metadata": {},
   "outputs": [],
   "source": [
    "den3D=np.zeros((N,N,N))"
   ]
  },
  {
   "cell_type": "markdown",
   "metadata": {},
   "source": [
    "La función forma de la partícula en este caso es un paralelepipedo rectangular  de volume, $\\Delta x \\Delta y \\Delta z$. En este esquema se involucran las ocho celdas más cercanas para cada partícula. Este esquema es conocido como Cloud-in-Cell (CiC)."
   ]
  },
  {
   "cell_type": "markdown",
   "metadata": {},
   "source": [
    "Consideremos, el esquema de asignación CiC para una partícula con coordenadas $(x_p,y_p,z_p)$. La celda que contiene \n",
    "la partícula tiene índices dados por: $i=floor(x_p/\\Delta x)$, $j=floor(y_p/\\Delta y)$, $k=floor(z_p/\\Delta z)$"
   ]
  },
  {
   "cell_type": "markdown",
   "metadata": {},
   "source": [
    "Definamos una función que nos retorne estos valores:"
   ]
  },
  {
   "cell_type": "code",
   "execution_count": 56,
   "metadata": {},
   "outputs": [],
   "source": [
    "def INDEX(x_p,y_p,z_p,Deltax,Deltay,Deltaz):\n",
    "    i=math.floor(x_p/Deltax)\n",
    "    j=math.floor(y_p/Deltay)\n",
    "    k=math.floor(z_p/Deltaz)\n",
    "    return np.array([i,j,k])"
   ]
  },
  {
   "cell_type": "markdown",
   "metadata": {},
   "source": [
    "Debemos considerar el centro de la celda el cuál va estar definido por $(x_c,y_c,z_c)=(i\\Delta x, j \\Delta y, k\\Delta z)$"
   ]
  },
  {
   "cell_type": "code",
   "execution_count": 65,
   "metadata": {},
   "outputs": [],
   "source": [
    "def CenCelda(x_p,y_p,z_p,Deltax,Deltay,Deltaz):\n",
    "    return np.array([INDEX(x_p,y_p,z_p,Deltax,Deltay,Deltax)[0]* Deltax,INDEX(x_p,y_p,z_p,Deltax,Deltay,Deltax)[1]* Deltay,INDEX(x_p,y_p,z_p,Deltax,Deltay,Deltax)[2]* Deltaz])"
   ]
  },
  {
   "cell_type": "markdown",
   "metadata": {},
   "source": [
    "La densisdad contribuye a la celda principal y a siete celdas vecinas indexadas por $(i,j,k), (ii,j,k),(i,jj,k),(i,j,kk),(ii,jj,k),(ii,j,kk),(i,jj,kk)$ y $(ii,jj,kk)$"
   ]
  },
  {
   "cell_type": "markdown",
   "metadata": {},
   "source": [
    "Donde los índices $ii$,$jj$ y $kk$ están definidos por: $ii=mod(i+1, N_{gx})$,$jj=mod(j+1, N_{gy})$ y \n",
    "$kk=mod(k+1, N_{gz})$"
   ]
  },
  {
   "cell_type": "markdown",
   "metadata": {},
   "source": [
    "Definamos ahora las cantidades $dx=\\frac{x_p}{\\Delta x}-i$, $dy=\\frac{y_p}{\\Delta y}-j$, $dz=\\frac{z_p}{\\Delta z}-k$"
   ]
  },
  {
   "cell_type": "markdown",
   "metadata": {},
   "source": [
    "y $t_x=1-dx$, $t_y=1-dy$, $t_z=1-dz$"
   ]
  },
  {
   "cell_type": "markdown",
   "metadata": {},
   "source": [
    "Las contribuciones a las ocho celdas están dadas por $W(\\vec{x_P}-x_{i,j,k})=t_x t_y t_z$"
   ]
  },
  {
   "cell_type": "markdown",
   "metadata": {},
   "source": [
    "$W(\\vec{x_P}-x_{ii,j,k})=d_x t_y t_z$"
   ]
  },
  {
   "cell_type": "markdown",
   "metadata": {},
   "source": [
    "$W(\\vec{x_P}-x_{i,jj,k})=t_x d_y t_z$"
   ]
  },
  {
   "cell_type": "markdown",
   "metadata": {},
   "source": [
    "$W(\\vec{x_P}-x_{i,j,kk})=t_x t_y d_z$"
   ]
  },
  {
   "cell_type": "markdown",
   "metadata": {},
   "source": [
    "$W(\\vec{x_P}-x_{ii,jj,k})=d_x d_y t_z$"
   ]
  },
  {
   "cell_type": "markdown",
   "metadata": {},
   "source": [
    "$W(\\vec{x_P}-x_{ii,j,kk})=d_x t_y d_z$"
   ]
  },
  {
   "cell_type": "markdown",
   "metadata": {},
   "source": [
    "$W(\\vec{x_P}-x_{i,jj,kk})=t_x d_y d_z$"
   ]
  },
  {
   "cell_type": "markdown",
   "metadata": {},
   "source": [
    "\n",
    "$W(\\vec{x_P}-x_{ii,jj,kk})=d_x d_y d_z$"
   ]
  },
  {
   "cell_type": "markdown",
   "metadata": {},
   "source": [
    "Sumando sobre todas las partículas resulta en el calculo de $\\rho$ en la grid. Pregunta: Sabemos que $\\rho(x_c)=Cons\\sum_{i}^{N_p}W(\\vec{x_i}-\\vec{x_{ijk}})$"
   ]
  },
  {
   "cell_type": "markdown",
   "metadata": {},
   "source": [
    "En el anterior código lo hacía $\\rho(x_c)=C\\sum_n W(x_n-x_i)W(y_n-y_j)W(z_n-z_k)$"
   ]
  },
  {
   "cell_type": "code",
   "execution_count": null,
   "metadata": {},
   "outputs": [],
   "source": []
  }
 ],
 "metadata": {
  "kernelspec": {
   "display_name": "Python 2",
   "language": "python",
   "name": "python2"
  },
  "language_info": {
   "codemirror_mode": {
    "name": "ipython",
    "version": 2
   },
   "file_extension": ".py",
   "mimetype": "text/x-python",
   "name": "python",
   "nbconvert_exporter": "python",
   "pygments_lexer": "ipython2",
   "version": "2.7.15"
  }
 },
 "nbformat": 4,
 "nbformat_minor": 2
}
