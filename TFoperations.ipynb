{
 "cells": [
  {
   "cell_type": "code",
   "execution_count": 1,
   "metadata": {},
   "outputs": [
    {
     "name": "stderr",
     "output_type": "stream",
     "text": [
      "/Users/diegobarbosa/anaconda2/lib/python2.7/site-packages/h5py/__init__.py:36: FutureWarning: Conversion of the second argument of issubdtype from `float` to `np.floating` is deprecated. In future, it will be treated as `np.float64 == np.dtype(float).type`.\n",
      "  from ._conv import register_converters as _register_converters\n"
     ]
    },
    {
     "name": "stdout",
     "output_type": "stream",
     "text": [
      "1.8.0\n"
     ]
    }
   ],
   "source": [
    "import tensorflow as tf\n",
    "print(tf.__version__)"
   ]
  },
  {
   "cell_type": "code",
   "execution_count": 2,
   "metadata": {},
   "outputs": [
    {
     "name": "stdout",
     "output_type": "stream",
     "text": [
      "HelloWorld!\n"
     ]
    }
   ],
   "source": [
    "h=tf.constant(\"Hello\")\n",
    "w=tf.constant(\"World!\")\n",
    "hw=h+w\n",
    "with tf.Session() as sess:\n",
    "    ans=sess.run(hw)\n",
    "print(ans)"
   ]
  },
  {
   "cell_type": "code",
   "execution_count": 3,
   "metadata": {},
   "outputs": [],
   "source": [
    "from tensorflow.examples.tutorials.mnist import input_data"
   ]
  },
  {
   "cell_type": "code",
   "execution_count": 4,
   "metadata": {},
   "outputs": [],
   "source": [
    "DATA_DIR='/tmp/data'\n",
    "NUM_STEPS=1000\n",
    "MINIBATCH_SIZE=100"
   ]
  },
  {
   "cell_type": "code",
   "execution_count": 6,
   "metadata": {},
   "outputs": [
    {
     "name": "stdout",
     "output_type": "stream",
     "text": [
      "WARNING:tensorflow:From <ipython-input-6-b83e14db9e8e>:1: read_data_sets (from tensorflow.contrib.learn.python.learn.datasets.mnist) is deprecated and will be removed in a future version.\n",
      "Instructions for updating:\n",
      "Please use alternatives such as official/mnist/dataset.py from tensorflow/models.\n",
      "WARNING:tensorflow:From /Users/diegobarbosa/anaconda2/lib/python2.7/site-packages/tensorflow/contrib/learn/python/learn/datasets/mnist.py:260: maybe_download (from tensorflow.contrib.learn.python.learn.datasets.base) is deprecated and will be removed in a future version.\n",
      "Instructions for updating:\n",
      "Please write your own downloading logic.\n",
      "WARNING:tensorflow:From /Users/diegobarbosa/anaconda2/lib/python2.7/site-packages/tensorflow/contrib/learn/python/learn/datasets/base.py:252: wrapped_fn (from tensorflow.contrib.learn.python.learn.datasets.base) is deprecated and will be removed in a future version.\n",
      "Instructions for updating:\n",
      "Please use urllib or similar directly.\n",
      "Successfully downloaded train-images-idx3-ubyte.gz 9912422 bytes.\n",
      "WARNING:tensorflow:From /Users/diegobarbosa/anaconda2/lib/python2.7/site-packages/tensorflow/contrib/learn/python/learn/datasets/mnist.py:262: extract_images (from tensorflow.contrib.learn.python.learn.datasets.mnist) is deprecated and will be removed in a future version.\n",
      "Instructions for updating:\n",
      "Please use tf.data to implement this functionality.\n",
      "Extracting /tmp/data/train-images-idx3-ubyte.gz\n",
      "Successfully downloaded train-labels-idx1-ubyte.gz 28881 bytes.\n",
      "WARNING:tensorflow:From /Users/diegobarbosa/anaconda2/lib/python2.7/site-packages/tensorflow/contrib/learn/python/learn/datasets/mnist.py:267: extract_labels (from tensorflow.contrib.learn.python.learn.datasets.mnist) is deprecated and will be removed in a future version.\n",
      "Instructions for updating:\n",
      "Please use tf.data to implement this functionality.\n",
      "Extracting /tmp/data/train-labels-idx1-ubyte.gz\n",
      "WARNING:tensorflow:From /Users/diegobarbosa/anaconda2/lib/python2.7/site-packages/tensorflow/contrib/learn/python/learn/datasets/mnist.py:110: dense_to_one_hot (from tensorflow.contrib.learn.python.learn.datasets.mnist) is deprecated and will be removed in a future version.\n",
      "Instructions for updating:\n",
      "Please use tf.one_hot on tensors.\n",
      "Successfully downloaded t10k-images-idx3-ubyte.gz 1648877 bytes.\n",
      "Extracting /tmp/data/t10k-images-idx3-ubyte.gz\n",
      "Successfully downloaded t10k-labels-idx1-ubyte.gz 4542 bytes.\n",
      "Extracting /tmp/data/t10k-labels-idx1-ubyte.gz\n",
      "WARNING:tensorflow:From /Users/diegobarbosa/anaconda2/lib/python2.7/site-packages/tensorflow/contrib/learn/python/learn/datasets/mnist.py:290: __init__ (from tensorflow.contrib.learn.python.learn.datasets.mnist) is deprecated and will be removed in a future version.\n",
      "Instructions for updating:\n",
      "Please use alternatives such as official/mnist/dataset.py from tensorflow/models.\n"
     ]
    }
   ],
   "source": [
    "data=input_data.read_data_sets(DATA_DIR,one_hot=True)\n",
    "x=tf.placeholder(tf.float32,[None,784])\n",
    "W=tf.Variable(tf.zeros([784,10]))"
   ]
  },
  {
   "cell_type": "code",
   "execution_count": 7,
   "metadata": {},
   "outputs": [],
   "source": [
    "y_true=tf.placeholder(tf.float32,[None,10])\n",
    "y_pred=tf.matmul(x,W)\n"
   ]
  },
  {
   "cell_type": "code",
   "execution_count": 8,
   "metadata": {},
   "outputs": [
    {
     "name": "stdout",
     "output_type": "stream",
     "text": [
      "WARNING:tensorflow:From <ipython-input-8-5869bf96bfef>:1: softmax_cross_entropy_with_logits (from tensorflow.python.ops.nn_ops) is deprecated and will be removed in a future version.\n",
      "Instructions for updating:\n",
      "\n",
      "Future major versions of TensorFlow will allow gradients to flow\n",
      "into the labels input on backprop by default.\n",
      "\n",
      "See @{tf.nn.softmax_cross_entropy_with_logits_v2}.\n",
      "\n"
     ]
    }
   ],
   "source": [
    "cross_entropy=tf.reduce_mean(tf.nn.softmax_cross_entropy_with_logits(logits=y_pred,labels=y_true))\n"
   ]
  },
  {
   "cell_type": "code",
   "execution_count": 9,
   "metadata": {},
   "outputs": [],
   "source": [
    "gd_step=tf.train.GradientDescentOptimizer(0.5).minimize(cross_entropy)"
   ]
  },
  {
   "cell_type": "code",
   "execution_count": 12,
   "metadata": {},
   "outputs": [
    {
     "name": "stdout",
     "output_type": "stream",
     "text": [
      "Accuracy:91.67%\n"
     ]
    }
   ],
   "source": [
    "correct_mask=tf.equal(tf.argmax(y_pred,1),tf.argmax(y_true,1))\n",
    "accuracy=tf.reduce_mean(tf.cast(correct_mask,tf.float32))\n",
    "\n",
    "with tf.Session() as sess:\n",
    "    #Train\n",
    "    sess.run(tf.global_variables_initializer())\n",
    "    for _ in range(NUM_STEPS):\n",
    "        batch_xs,batch_ys=data.train.next_batch(MINIBATCH_SIZE)\n",
    "        sess.run(gd_step,feed_dict={x:batch_xs,y_true:batch_ys})\n",
    "        #Test\n",
    "        ans=sess.run(accuracy,feed_dict={ x: data.test.images,y_true:data.test.labels})\n",
    "print \"Accuracy:{:.4}%\".format(ans*100)"
   ]
  },
  {
   "cell_type": "code",
   "execution_count": 13,
   "metadata": {},
   "outputs": [],
   "source": [
    "#Here we're going to create a simple TensorFlow graph\n",
    "a=tf.constant(5)\n",
    "b=tf.constant(2)\n",
    "c=tf.constant(3)\n",
    "d=tf.multiply(a,b)\n",
    "e=tf.add(c,b)\n",
    "f=tf.subtract(d,e)"
   ]
  },
  {
   "cell_type": "code",
   "execution_count": 14,
   "metadata": {},
   "outputs": [],
   "source": [
    "#Once the graph is created, then we run it\n",
    "sess=tf.Session()\n",
    "outs=sess.run(f)\n",
    "sess.close()\n"
   ]
  },
  {
   "cell_type": "code",
   "execution_count": 15,
   "metadata": {},
   "outputs": [
    {
     "name": "stdout",
     "output_type": "stream",
     "text": [
      "5\n"
     ]
    }
   ],
   "source": [
    "print(outs)"
   ]
  },
  {
   "cell_type": "code",
   "execution_count": 16,
   "metadata": {},
   "outputs": [
    {
     "name": "stdout",
     "output_type": "stream",
     "text": [
      "<tensorflow.python.framework.ops.Graph object at 0xb1c265610>\n"
     ]
    }
   ],
   "source": [
    "print(tf.get_default_graph())"
   ]
  },
  {
   "cell_type": "code",
   "execution_count": 17,
   "metadata": {},
   "outputs": [
    {
     "name": "stdout",
     "output_type": "stream",
     "text": [
      "<tensorflow.python.framework.ops.Graph object at 0x1045c2b50>\n"
     ]
    }
   ],
   "source": [
    "g=tf.Graph()\n",
    "print(g)"
   ]
  },
  {
   "cell_type": "code",
   "execution_count": 18,
   "metadata": {},
   "outputs": [],
   "source": [
    "#At this point we have two graphs: The default graph and the empty graph in g"
   ]
  },
  {
   "cell_type": "code",
   "execution_count": 19,
   "metadata": {},
   "outputs": [],
   "source": [
    "#we can check which graph is currently set as the default by using tf.get_default_graph()"
   ]
  },
  {
   "cell_type": "code",
   "execution_count": 20,
   "metadata": {},
   "outputs": [],
   "source": [
    "g=tf.Graph()\n",
    "a=tf.constant(5)"
   ]
  },
  {
   "cell_type": "code",
   "execution_count": 21,
   "metadata": {},
   "outputs": [
    {
     "name": "stdout",
     "output_type": "stream",
     "text": [
      "False\n",
      "True\n"
     ]
    }
   ],
   "source": [
    "print(a.graph is g)\n",
    "print(a.graph is tf.get_default_graph())"
   ]
  },
  {
   "cell_type": "code",
   "execution_count": 22,
   "metadata": {},
   "outputs": [],
   "source": [
    "#we use the with statement together with the as_default() command, which returns a context manager that makes this graph \n",
    "#the default one. This comes in handy when working with multiple graphs:"
   ]
  },
  {
   "cell_type": "code",
   "execution_count": 23,
   "metadata": {},
   "outputs": [
    {
     "name": "stdout",
     "output_type": "stream",
     "text": [
      "True\n",
      "False\n",
      "True\n"
     ]
    }
   ],
   "source": [
    "g1=tf.get_default_graph()\n",
    "g2=tf.Graph()\n",
    "print(g1 is tf.get_default_graph())\n",
    "with g2.as_default():\n",
    "    print(g1 is tf.get_default_graph())\n",
    "print(g1 is tf.get_default_graph())"
   ]
  },
  {
   "cell_type": "code",
   "execution_count": 24,
   "metadata": {},
   "outputs": [],
   "source": [
    "#The with statement can also be used to start a session without having to explicitly close it."
   ]
  },
  {
   "cell_type": "code",
   "execution_count": 25,
   "metadata": {},
   "outputs": [
    {
     "name": "stdout",
     "output_type": "stream",
     "text": [
      "[5, 2, 3, 10, 5, 5]\n"
     ]
    }
   ],
   "source": [
    "with tf.Session() as sess:\n",
    "    fetches=[a,b,c,d,e,f]\n",
    "    outs=sess.run(fetches)\n",
    "print(outs)"
   ]
  },
  {
   "cell_type": "code",
   "execution_count": 29,
   "metadata": {},
   "outputs": [],
   "source": [
    "import numpy as np\n",
    "out=np.array(outs)"
   ]
  },
  {
   "cell_type": "code",
   "execution_count": 30,
   "metadata": {},
   "outputs": [
    {
     "data": {
      "text/plain": [
       "array([ 5,  2,  3, 10,  5,  5], dtype=int32)"
      ]
     },
     "execution_count": 30,
     "metadata": {},
     "output_type": "execute_result"
    }
   ],
   "source": [
    "out"
   ]
  },
  {
   "cell_type": "code",
   "execution_count": 31,
   "metadata": {},
   "outputs": [
    {
     "data": {
      "text/plain": [
       "30"
      ]
     },
     "execution_count": 31,
     "metadata": {},
     "output_type": "execute_result"
    }
   ],
   "source": [
    "np.sum(out)"
   ]
  },
  {
   "cell_type": "code",
   "execution_count": 32,
   "metadata": {},
   "outputs": [
    {
     "data": {
      "text/plain": [
       "30"
      ]
     },
     "execution_count": 32,
     "metadata": {},
     "output_type": "execute_result"
    }
   ],
   "source": [
    "np.sum(outs)"
   ]
  },
  {
   "cell_type": "code",
   "execution_count": 36,
   "metadata": {},
   "outputs": [
    {
     "data": {
      "text/plain": [
       "(6,)"
      ]
     },
     "execution_count": 36,
     "metadata": {},
     "output_type": "execute_result"
    }
   ],
   "source": [
    "out.shape"
   ]
  },
  {
   "cell_type": "code",
   "execution_count": 37,
   "metadata": {},
   "outputs": [
    {
     "name": "stdout",
     "output_type": "stream",
     "text": [
      "Tensor(\"Const_9:0\", shape=(), dtype=float32)\n"
     ]
    }
   ],
   "source": [
    "c=tf.constant(4.0)\n",
    "print(c)"
   ]
  },
  {
   "cell_type": "code",
   "execution_count": 38,
   "metadata": {},
   "outputs": [],
   "source": [
    "#The variable c stores a tensor object with the name Const_9:0, designated to contain a 32-bit floating-point scalar"
   ]
  },
  {
   "cell_type": "code",
   "execution_count": 39,
   "metadata": {},
   "outputs": [],
   "source": [
    "#Each Tensor object in TF has attributes such as name, shape, dtype that help identify and set the characteristics of\n",
    "#that object. "
   ]
  },
  {
   "cell_type": "code",
   "execution_count": 40,
   "metadata": {},
   "outputs": [],
   "source": [
    "#We can explicit choose what data type we want to work with by specifying it when we create the Tensor object. "
   ]
  },
  {
   "cell_type": "code",
   "execution_count": 42,
   "metadata": {},
   "outputs": [
    {
     "name": "stdout",
     "output_type": "stream",
     "text": [
      "Tensor(\"Const_11:0\", shape=(), dtype=float64)\n",
      "<dtype: 'float64'>\n"
     ]
    }
   ],
   "source": [
    "c=tf.constant(4.0,dtype=tf.float64)\n",
    "print(c)\n",
    "print(c.dtype)"
   ]
  },
  {
   "cell_type": "code",
   "execution_count": 43,
   "metadata": {},
   "outputs": [],
   "source": [
    "# It is important that data types match throughout the graph.TO CHANGE THE DATA TYPE SETTING OF A TENSOR, \n",
    "#WE CAN USE THE tf.cast() operation:"
   ]
  },
  {
   "cell_type": "code",
   "execution_count": 44,
   "metadata": {},
   "outputs": [
    {
     "name": "stdout",
     "output_type": "stream",
     "text": [
      "Tensor(\"x:0\", shape=(3,), dtype=float32)\n",
      "Tensor(\"Cast_2:0\", shape=(3,), dtype=float64)\n"
     ]
    }
   ],
   "source": [
    "x=tf.constant([1,2,3],name='x',dtype=tf.float32)\n",
    "print(x)\n",
    "x=tf.cast(x,tf.float64)\n",
    "print(x)"
   ]
  },
  {
   "cell_type": "code",
   "execution_count": 45,
   "metadata": {},
   "outputs": [],
   "source": [
    "#Tensors: Let's see a 2x3 matrix and a 3D Numpy array of size 2x2x3 (two matrices of size 2x3)"
   ]
  },
  {
   "cell_type": "code",
   "execution_count": 46,
   "metadata": {},
   "outputs": [],
   "source": [
    "c=tf.constant([ [1,2,3],[4,5,6] ])"
   ]
  },
  {
   "cell_type": "code",
   "execution_count": 47,
   "metadata": {},
   "outputs": [
    {
     "name": "stdout",
     "output_type": "stream",
     "text": [
      "Python list input:(2, 3)\n"
     ]
    }
   ],
   "source": [
    "print(\"Python list input:{}\".format(c.get_shape()))"
   ]
  },
  {
   "cell_type": "code",
   "execution_count": 48,
   "metadata": {},
   "outputs": [],
   "source": [
    "c=tf.constant( np.array( [ [[1,2,3],[4,5,6]], [[1,1,1],[2,2,2]]      ] ) )"
   ]
  },
  {
   "cell_type": "code",
   "execution_count": 49,
   "metadata": {},
   "outputs": [
    {
     "name": "stdout",
     "output_type": "stream",
     "text": [
      "3d NumPy array input(2, 2, 3)\n"
     ]
    }
   ],
   "source": [
    "print(\"3d NumPy array input{}\".format(c.get_shape()))"
   ]
  },
  {
   "cell_type": "markdown",
   "metadata": {},
   "source": [
    "VARIABLES, PLACEHOLRDERS AND SIMPLE OPTIMIZATION"
   ]
  },
  {
   "cell_type": "code",
   "execution_count": 50,
   "metadata": {},
   "outputs": [],
   "source": [
    "#Variables are computed only when the model runs, as can see in the following example:"
   ]
  },
  {
   "cell_type": "code",
   "execution_count": 51,
   "metadata": {},
   "outputs": [
    {
     "name": "stdout",
     "output_type": "stream",
     "text": [
      "pre run: \n",
      " <tf.Variable 'var:0' shape=(1, 5) dtype=float32_ref>\n",
      "\n",
      " post run \n",
      " [[-1.2547946  -1.3682852  -0.03347478  2.3504262  -0.02644103]]\n"
     ]
    }
   ],
   "source": [
    "init_val=tf.random_normal((1,5),0,1)\n",
    "var=tf.Variable(init_val,name='var')\n",
    "print(\"pre run: \\n {}\".format(var))\n",
    "init=tf.global_variables_initializer()\n",
    "with tf.Session() as sess:\n",
    "    sess.run(init)\n",
    "    post_var=sess.run(var)\n",
    "print(\"\\n post run \\n {}\".format(post_var))"
   ]
  },
  {
   "cell_type": "markdown",
   "metadata": {},
   "source": [
    "Placeholders can be thought of as empty Variables that will be filled with data later on. We use them by first constructing our graph and only when it is executed feeding them with the input data."
   ]
  },
  {
   "cell_type": "markdown",
   "metadata": {},
   "source": [
    "It is common to use None for the dimension of a matrix that corresponds to the number of samples (usually rows), while having the length of the features (usually columns) fixed.\n",
    "Whenever we define a placeholder, we must feed it with some input values. The input dada is passed to the session.run() method as a dictionary, where each key corresponds to a place holder variable name."
   ]
  },
  {
   "cell_type": "markdown",
   "metadata": {},
   "source": [
    "Lets see the next example, this time with placeholders for two inputs: a matrix $X$ and a vector $w$"
   ]
  },
  {
   "cell_type": "code",
   "execution_count": 52,
   "metadata": {},
   "outputs": [],
   "source": [
    "x_data=np.random.randn(5,10)\n",
    "w_data=np.random.randn(10,1)\n"
   ]
  },
  {
   "cell_type": "code",
   "execution_count": 56,
   "metadata": {},
   "outputs": [],
   "source": [
    "with tf.Graph().as_default():\n",
    "    x=tf.placeholder(tf.float32,shape=(5,10))\n",
    "    w=tf.placeholder(tf.float32,shape=(10,1))\n",
    "    b=tf.fill((5,1),-1.0) # vector of size 5 filled with -1\n",
    "    xw=tf.matmul(x,w)\n",
    "    xwb=xw+b\n",
    "    s=tf.reduce_max(xwb) #Here we take the maximum value of the vector xwb\n",
    "    with tf.Session() as sess:\n",
    "        outs=sess.run(s,feed_dict={x:x_data,w: w_data})"
   ]
  },
  {
   "cell_type": "code",
   "execution_count": 57,
   "metadata": {},
   "outputs": [
    {
     "name": "stdout",
     "output_type": "stream",
     "text": [
      "outs=9.03967475891\n"
     ]
    }
   ],
   "source": [
    "print(\"outs={}\".format(outs))"
   ]
  },
  {
   "cell_type": "markdown",
   "metadata": {},
   "source": [
    "We have some target variable $y$, which we want to explain using some feature vector $x$. Let's start by describing our regression model: \n",
    "$f(x_i)=w^{T}x_i +b$ and $y_i=f(x_i)+\\epsilon_i$"
   ]
  },
  {
   "cell_type": "code",
   "execution_count": 1,
   "metadata": {},
   "outputs": [
    {
     "name": "stderr",
     "output_type": "stream",
     "text": [
      "/Users/diegobarbosa/anaconda2/lib/python2.7/site-packages/h5py/__init__.py:36: FutureWarning: Conversion of the second argument of issubdtype from `float` to `np.floating` is deprecated. In future, it will be treated as `np.float64 == np.dtype(float).type`.\n",
      "  from ._conv import register_converters as _register_converters\n"
     ]
    }
   ],
   "source": [
    "import tensorflow as tf \n",
    "import numpy as np\n",
    "import matplotlib.pyplot as plt\n",
    "%matplotlib inline"
   ]
  },
  {
   "cell_type": "markdown",
   "metadata": {},
   "source": [
    "We will need to create the appropiate placeholders for our input and output data and Variables four aur weights and intercept:"
   ]
  },
  {
   "cell_type": "code",
   "execution_count": 2,
   "metadata": {},
   "outputs": [],
   "source": [
    "x=tf.placeholder(tf.float32, shape=[None,3])\n",
    "y_true=tf.placeholder(tf.float32,shape=None)\n",
    "w=tf.Variable([[0,0,0]],dtype=tf.float32,name='weights')\n",
    "b=tf.Variable(0,dtype=tf.float32,name='bias')"
   ]
  },
  {
   "cell_type": "code",
   "execution_count": 3,
   "metadata": {},
   "outputs": [],
   "source": [
    "#Once the variables and placeholders and weights are initialized, then we can formulate our model"
   ]
  },
  {
   "cell_type": "code",
   "execution_count": 4,
   "metadata": {},
   "outputs": [],
   "source": [
    "y_pred=tf.matmul(w,tf.transpose(x))+b"
   ]
  },
  {
   "cell_type": "code",
   "execution_count": 5,
   "metadata": {},
   "outputs": [],
   "source": [
    "#Loss function is a measure of difference between the true values and the predicted values. \n",
    "#This loss function is minimized in order to fit the best model. "
   ]
  },
  {
   "cell_type": "markdown",
   "metadata": {},
   "source": [
    "Perhaps the most commonly used loss function is the MEAN SQUARED ERROR (MSE) \n",
    "$L(y,\\hat{y})=\\frac{1}{n}\\sum (y_i -\\hat{y}_i)^2$ "
   ]
  },
  {
   "cell_type": "code",
   "execution_count": 6,
   "metadata": {},
   "outputs": [],
   "source": [
    "loss0=tf.reduce_mean(tf.square(y_true-y_pred))"
   ]
  },
  {
   "cell_type": "code",
   "execution_count": 7,
   "metadata": {},
   "outputs": [],
   "source": [
    "#The next thing we need to figure out is how to minimize the loss function. We will have to use an optimization \n",
    "#algorithm. THe mos commonu used approach is gradient descent."
   ]
  },
  {
   "cell_type": "markdown",
   "metadata": {},
   "source": [
    "We first create an optimizer by using the GradientDescent() function with the desired learning rate. We then create a train operation that updates our variables by calling the optimizer.minimize() function and passing in the loss as an argument.\n",
    "optimizer=tf.train.GradientDescentOptimizer(learning_rate)\n",
    "train=optimizer.minimize(loss)"
   ]
  },
  {
   "cell_type": "markdown",
   "metadata": {},
   "source": [
    "In this problem we are interested in retrieving a set of weights $w$ and a bias term $b$, assuming our target value is linear combination of  some input vector $x$, with an additional Gaussian noise $\\epsilon_i$ added to each sample"
   ]
  },
  {
   "cell_type": "markdown",
   "metadata": {},
   "source": [
    "We will generate data using numpy. We create 2000 samples of $x$, a vector with three features, take the inner product of each sample $x$ with a set of weights $w([0.3,0.5,0.1])$ and add a bias term b(-0.2) and Gaussian noise to the result"
   ]
  },
  {
   "cell_type": "code",
   "execution_count": 8,
   "metadata": {},
   "outputs": [],
   "source": [
    "x_data=np.random.randn(2000,3)\n",
    "w_real=[0.3,0.5,0.1]\n",
    "b_real=-0.2\n",
    "noise=np.random.randn(1,2000)*0.1\n",
    "y_data=np.matmul(w_real,x_data.T)+b_real+noise"
   ]
  },
  {
   "cell_type": "code",
   "execution_count": 14,
   "metadata": {},
   "outputs": [
    {
     "name": "stdout",
     "output_type": "stream",
     "text": [
      "(0, [array([[0.2948674 , 0.5182849 , 0.08012366]], dtype=float32), -0.19077927])\n",
      "(5, [array([[0.30217215, 0.49997395, 0.09707265]], dtype=float32), -0.19490166])\n",
      "(10, [array([[0.30217215, 0.49997395, 0.09707264]], dtype=float32), -0.19490166])\n"
     ]
    }
   ],
   "source": [
    "NUM_STEPS=10\n",
    "g=tf.Graph()\n",
    "wb=[]\n",
    "with g.as_default():\n",
    "    x=tf.placeholder(tf.float32,shape=[None,3])\n",
    "    y_true=tf.placeholder(tf.float32,shape=None)\n",
    "    with tf.name_scope('inference') as scope:\n",
    "        w=tf.Variable([[0,0,0]],dtype=tf.float32,name='weights')\n",
    "        b=tf.Variable(0,dtype=tf.float32,name='bias')\n",
    "        y_pred=tf.matmul(w,tf.transpose(x))+b\n",
    "    with tf.name_scope('loss') as scope:\n",
    "        loss=tf.reduce_mean(tf.square(y_true-y_pred))\n",
    "    with tf.name_scope('train') as scope:\n",
    "        learning_rate=0.5\n",
    "        optimizer=tf.train.GradientDescentOptimizer(learning_rate)\n",
    "        train=optimizer.minimize(loss)\n",
    "    #Before starting, initialize the variables. We will 'run' this first.\n",
    "    init=tf.global_variables_initializer()\n",
    "    with tf.Session() as sess:\n",
    "        sess.run(init)\n",
    "        for step in range(NUM_STEPS):\n",
    "            sess.run(train,{x:x_data,y_true:y_data})\n",
    "            if(step %5==0):\n",
    "                print(step,sess.run([w,b]))\n",
    "                wb.append(sess.run([w,b]))\n",
    "        print(10,sess.run([w,b]))"
   ]
  },
  {
   "cell_type": "code",
   "execution_count": 15,
   "metadata": {},
   "outputs": [],
   "source": [
    "import pandas as pd "
   ]
  },
  {
   "cell_type": "code",
   "execution_count": 16,
   "metadata": {},
   "outputs": [
    {
     "data": {
      "text/plain": [
       "u'0.23.0'"
      ]
     },
     "execution_count": 16,
     "metadata": {},
     "output_type": "execute_result"
    }
   ],
   "source": [
    "pd.__version__"
   ]
  },
  {
   "cell_type": "code",
   "execution_count": null,
   "metadata": {},
   "outputs": [],
   "source": []
  }
 ],
 "metadata": {
  "kernelspec": {
   "display_name": "Python 2",
   "language": "python",
   "name": "python2"
  },
  "language_info": {
   "codemirror_mode": {
    "name": "ipython",
    "version": 2
   },
   "file_extension": ".py",
   "mimetype": "text/x-python",
   "name": "python",
   "nbconvert_exporter": "python",
   "pygments_lexer": "ipython2",
   "version": "2.7.15"
  }
 },
 "nbformat": 4,
 "nbformat_minor": 2
}
