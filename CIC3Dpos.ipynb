{
 "cells": [
  {
   "cell_type": "code",
   "execution_count": 1,
   "metadata": {},
   "outputs": [
    {
     "name": "stderr",
     "output_type": "stream",
     "text": [
      "/Users/diegobarbosa/anaconda2/lib/python2.7/site-packages/h5py/__init__.py:36: FutureWarning: Conversion of the second argument of issubdtype from `float` to `np.floating` is deprecated. In future, it will be treated as `np.float64 == np.dtype(float).type`.\n",
      "  from ._conv import register_converters as _register_converters\n"
     ]
    }
   ],
   "source": [
    "import numpy as np\n",
    "import random\n",
    "import math\n",
    "import matplotlib.pyplot as plt\n",
    "import h5py\n",
    "%matplotlib inline\n"
   ]
  },
  {
   "cell_type": "code",
   "execution_count": 3,
   "metadata": {},
   "outputs": [],
   "source": [
    "file1=h5py.File('particle_positions.h5')\n",
    "dset=file1['positions']"
   ]
  },
  {
   "cell_type": "code",
   "execution_count": 4,
   "metadata": {},
   "outputs": [
    {
     "data": {
      "text/plain": [
       "(134217728, 3)"
      ]
     },
     "execution_count": 4,
     "metadata": {},
     "output_type": "execute_result"
    }
   ],
   "source": [
    "dset.shape"
   ]
  },
  {
   "cell_type": "markdown",
   "metadata": {},
   "source": [
    "Tenemos 134217728 partículas con posiciones en x,y,z en una caja de longitud L=2000MPc/h y queremos \n",
    "hacer asignación de masas usando el algorítmo CIC"
   ]
  },
  {
   "cell_type": "markdown",
   "metadata": {},
   "source": [
    "Vamos a tomar las posiciones de x,y,z "
   ]
  },
  {
   "cell_type": "code",
   "execution_count": 8,
   "metadata": {},
   "outputs": [],
   "source": [
    "xpos=dset[:,0];\n",
    "ypos=dset[:,1];\n",
    "zpos=dset[:,2];"
   ]
  },
  {
   "cell_type": "code",
   "execution_count": 11,
   "metadata": {},
   "outputs": [],
   "source": [
    "Lx=2000.0\n",
    "Ly=2000.0\n",
    "Lz=2000.0\n",
    "N=256"
   ]
  },
  {
   "cell_type": "code",
   "execution_count": 12,
   "metadata": {},
   "outputs": [],
   "source": [
    "Deltax=(Lx/N)\n",
    "Deltay=(Ly/N)\n",
    "Deltaz=(Lz/N)"
   ]
  },
  {
   "cell_type": "markdown",
   "metadata": {},
   "source": [
    "Para calcular la densidad, primero necesitamos un arreglo de tamaño  $N_{gx}\\times N_{gy}\\times N_{gz}$, para nuestro caso es $N^3$. Definamos esa variable:"
   ]
  },
  {
   "cell_type": "code",
   "execution_count": 13,
   "metadata": {},
   "outputs": [],
   "source": [
    "den3D=np.zeros((N,N,N))"
   ]
  },
  {
   "cell_type": "markdown",
   "metadata": {},
   "source": [
    "La función forma de la partícula en este caso es un paralelepipedo rectangular  de volume, $\\Delta x \\Delta y \\Delta z$. En este esquema se involucran las ocho celdas más cercanas para cada partícula. Este esquema es conocido como Cloud-in-Cell (CiC)."
   ]
  },
  {
   "cell_type": "markdown",
   "metadata": {},
   "source": [
    "Consideremos, el esquema de asignación CiC para una partícula con coordenadas $(x_p,y_p,z_p)$. La celda que contiene \n",
    "la partícula tiene índices dados por: $i=floor(x_p/\\Delta x)$, $j=floor(y_p/\\Delta y)$, $k=floor(z_p/\\Delta z)$"
   ]
  },
  {
   "cell_type": "markdown",
   "metadata": {},
   "source": [
    "Definamos una función que nos retorne estos valores:"
   ]
  },
  {
   "cell_type": "code",
   "execution_count": 16,
   "metadata": {},
   "outputs": [],
   "source": [
    "def inx(xp,Dx):\n",
    "    i=int(math.floor(xp/Dx))\n",
    "    return i"
   ]
  },
  {
   "cell_type": "code",
   "execution_count": 17,
   "metadata": {},
   "outputs": [],
   "source": [
    "def iny(yp,Dy):\n",
    "    j=int(math.floor(yp/Dy))\n",
    "    return j"
   ]
  },
  {
   "cell_type": "code",
   "execution_count": 18,
   "metadata": {},
   "outputs": [],
   "source": [
    "def inz(zp,Dz):\n",
    "    k=int(math.floor(zp/Dz))\n",
    "    return k"
   ]
  },
  {
   "cell_type": "markdown",
   "metadata": {},
   "source": [
    "Debemos considerar el centro de la celda el cuál va estar definido por $(x_c,y_c,z_c)=(i\\Delta x, j \\Delta y, k\\Delta z)$"
   ]
  },
  {
   "cell_type": "code",
   "execution_count": 20,
   "metadata": {},
   "outputs": [],
   "source": [
    "def CCx(xp,Dx):\n",
    "    xc=inx(xp,Dx)*Dx\n",
    "    return xc"
   ]
  },
  {
   "cell_type": "code",
   "execution_count": 21,
   "metadata": {},
   "outputs": [],
   "source": [
    "def CCy(yp,Dy):\n",
    "    yc=iny(yp,Dy)*Dy\n",
    "    return yc"
   ]
  },
  {
   "cell_type": "code",
   "execution_count": 22,
   "metadata": {},
   "outputs": [],
   "source": [
    "def CCz(zp,Dz):\n",
    "    zc=iny(zp,Dz)*Dz\n",
    "    return zc"
   ]
  },
  {
   "cell_type": "markdown",
   "metadata": {},
   "source": [
    "La densisdad contribuye a la celda principal y a siete celdas vecinas indexadas por $(i,j,k), (ii,j,k),(i,jj,k),(i,j,kk),(ii,jj,k),(ii,j,kk),(i,jj,kk)$ y $(ii,jj,kk)$"
   ]
  },
  {
   "cell_type": "markdown",
   "metadata": {},
   "source": [
    "Donde los índices $ii$,$jj$ y $kk$ están definidos por: $ii=mod(i+1, N_{gx})$,$jj=mod(j+1, N_{gy})$ y \n",
    "$kk=mod(k+1, N_{gz})$"
   ]
  },
  {
   "cell_type": "code",
   "execution_count": 24,
   "metadata": {},
   "outputs": [],
   "source": [
    "def inxx(xp,Dx,Nx):\n",
    "    ii=int((inx(xp,Dx)+1)%Nx)\n",
    "    return ii"
   ]
  },
  {
   "cell_type": "code",
   "execution_count": 25,
   "metadata": {},
   "outputs": [],
   "source": [
    "def inyy(yp,Dy,Ny):\n",
    "    jj=int((iny(yp,Dy)+1)%Ny)\n",
    "    return jj"
   ]
  },
  {
   "cell_type": "code",
   "execution_count": 26,
   "metadata": {},
   "outputs": [],
   "source": [
    "def inzz(zp,Dz,Nz):\n",
    "    kk=int((inz(zp,Dz)+1)%Nz)\n",
    "    return kk"
   ]
  },
  {
   "cell_type": "markdown",
   "metadata": {},
   "source": [
    "Definamos ahora las cantidades $dx=\\frac{x_p}{\\Delta x}-i$, $dy=\\frac{y_p}{\\Delta y}-j$, $dz=\\frac{z_p}{\\Delta z}-k$"
   ]
  },
  {
   "cell_type": "markdown",
   "metadata": {},
   "source": [
    "y $t_x=1-dx$, $t_y=1-dy$, $t_z=1-dz$"
   ]
  },
  {
   "cell_type": "code",
   "execution_count": 27,
   "metadata": {},
   "outputs": [],
   "source": [
    "def delx(xp,Dx):\n",
    "    dx=(xp/Dx)-inx(xp,Dx)\n",
    "    return dx"
   ]
  },
  {
   "cell_type": "code",
   "execution_count": 28,
   "metadata": {},
   "outputs": [],
   "source": [
    "def dely(yp,Dy):\n",
    "    dy=(yp/Dy)-iny(yp,Dy)\n",
    "    return dy"
   ]
  },
  {
   "cell_type": "code",
   "execution_count": 29,
   "metadata": {},
   "outputs": [],
   "source": [
    "def delz(zp,Dz):\n",
    "    dz=(zp/Dz)-inz(zp,Dz)\n",
    "    return dz"
   ]
  },
  {
   "cell_type": "code",
   "execution_count": 30,
   "metadata": {},
   "outputs": [],
   "source": [
    "def ti(xp,Dx):\n",
    "    tx=1-delx(xp,Dx)\n",
    "    return tx"
   ]
  },
  {
   "cell_type": "code",
   "execution_count": 31,
   "metadata": {},
   "outputs": [],
   "source": [
    "def tj(yp,Dy):\n",
    "    ty=1-dely(yp,Dy)\n",
    "    return ty"
   ]
  },
  {
   "cell_type": "code",
   "execution_count": 32,
   "metadata": {},
   "outputs": [],
   "source": [
    "def tk(zp,Dz):\n",
    "    tz=1-delz(zp,Dz)\n",
    "    return tz"
   ]
  },
  {
   "cell_type": "markdown",
   "metadata": {},
   "source": [
    "Las contribuciones a las ocho celdas están dadas por $W(\\vec{x_P}-x_{i,j,k})=t_x t_y t_z$"
   ]
  },
  {
   "cell_type": "markdown",
   "metadata": {},
   "source": [
    "$W(\\vec{x_P}-x_{ii,j,k})=d_x t_y t_z$"
   ]
  },
  {
   "cell_type": "markdown",
   "metadata": {},
   "source": [
    "$W(\\vec{x_P}-x_{i,jj,k})=t_x d_y t_z$"
   ]
  },
  {
   "cell_type": "markdown",
   "metadata": {},
   "source": [
    "$W(\\vec{x_P}-x_{i,j,kk})=t_x t_y d_z$"
   ]
  },
  {
   "cell_type": "markdown",
   "metadata": {},
   "source": [
    "$W(\\vec{x_P}-x_{ii,jj,k})=d_x d_y t_z$"
   ]
  },
  {
   "cell_type": "markdown",
   "metadata": {},
   "source": [
    "$W(\\vec{x_P}-x_{ii,j,kk})=d_x t_y d_z$"
   ]
  },
  {
   "cell_type": "markdown",
   "metadata": {},
   "source": [
    "$W(\\vec{x_P}-x_{i,jj,kk})=t_x d_y d_z$"
   ]
  },
  {
   "cell_type": "markdown",
   "metadata": {},
   "source": [
    "$W(\\vec{x_P}-x_{ii,jj,kk})=d_x d_y d_z$"
   ]
  },
  {
   "cell_type": "markdown",
   "metadata": {},
   "source": [
    "Sumando sobre todas las partículas resulta en el calculo de $\\rho$ en la grid. Pregunta: Sabemos que $\\rho(x_c)=Cons\\sum_{i}^{N_p}W(\\vec{x_i}-\\vec{x_{ijk}})$"
   ]
  },
  {
   "cell_type": "code",
   "execution_count": 35,
   "metadata": {},
   "outputs": [],
   "source": [
    "def rho3D(xp,yp,zp,Dx,Dy,Dz,Nx,Ny,Nz,den3D):\n",
    "    i=int(inx(xp,Dx))\n",
    "    j=int(iny(yp,Dy))\n",
    "    k=int(inz(yp,Dz))\n",
    "    ii=inxx(xp,Dx,Nx)\n",
    "    jj=inyy(yp,Dy,Ny)\n",
    "    kk=inyy(zp,Dz,Nz)\n",
    "    den3D[i,j,k]=den3D[i,j,k]+(ti(xp,Dx)*tj(yp,Dy)*tk(zp,Dz))\n",
    "    den3D[ii,j,k]=den3D[ii,j,k]+(delx(xp,Dx)*tj(yp,Dy)*tk(zp,Dz))\n",
    "    den3D[i,jj,k]=den3D[i,jj,k]+(ti(xp,Dx)*dely(yp,Dy)*tk(zp,Dz))\n",
    "    den3D[i,j,kk]=den3D[i,j,kk]+(ti(xp,Dx)*tj(yp,Dy)*delz(zp,Dz))\n",
    "    den3D[ii,jj,k]=den3D[ii,jj,k]+(delx(xp,Dx)*dely(yp,Dy)*tk(zp,Dz))\n",
    "    den3D[ii,j,kk]=den3D[ii,j,kk]+(delx(xp,Dx)*tj(yp,Dy)*delz(zp,Dz))\n",
    "    den3D[i,jj,kk]=den3D[i,jj,kk]+(ti(xp,Dx)*dely(yp,Dy)*delz(zp,Dz))\n",
    "    den3D[ii,jj,kk]=den3D[ii,jj,kk]+(delx(xp,Dx)*dely(yp,Dy)*delz(zp,Dz))"
   ]
  },
  {
   "cell_type": "code",
   "execution_count": 36,
   "metadata": {},
   "outputs": [],
   "source": [
    "def suma(x,y,z,Dx,Dy,Dz,Nx,Ny,Nz,Np):\n",
    "    den3d=np.zeros((Nx,Ny,Nz))\n",
    "    for i in range(0,Np):\n",
    "        xp=x[i]\n",
    "        yp=y[i]\n",
    "        zp=z[i]\n",
    "        rho3D(xp,yp,zp,Dx,Dy,Dz,Nx,Ny,Nz,den3d)\n",
    "    return den3d"
   ]
  },
  {
   "cell_type": "code",
   "execution_count": 38,
   "metadata": {},
   "outputs": [],
   "source": [
    "Den3D=suma(xpos,ypos,zpos,Deltax,Deltay,Deltaz,256,256,256,len(xpos))"
   ]
  },
  {
   "cell_type": "code",
   "execution_count": 39,
   "metadata": {},
   "outputs": [],
   "source": [
    "f=h5py.File('density2.h5','w')"
   ]
  },
  {
   "cell_type": "code",
   "execution_count": 40,
   "metadata": {},
   "outputs": [],
   "source": [
    "dset=f.create_dataset('density2',data=Den3D)"
   ]
  },
  {
   "cell_type": "code",
   "execution_count": 41,
   "metadata": {},
   "outputs": [],
   "source": [
    "f.close()"
   ]
  },
  {
   "cell_type": "code",
   "execution_count": null,
   "metadata": {},
   "outputs": [],
   "source": []
  }
 ],
 "metadata": {
  "kernelspec": {
   "display_name": "Python 2",
   "language": "python",
   "name": "python2"
  },
  "language_info": {
   "codemirror_mode": {
    "name": "ipython",
    "version": 2
   },
   "file_extension": ".py",
   "mimetype": "text/x-python",
   "name": "python",
   "nbconvert_exporter": "python",
   "pygments_lexer": "ipython2",
   "version": "2.7.15"
  }
 },
 "nbformat": 4,
 "nbformat_minor": 2
}
